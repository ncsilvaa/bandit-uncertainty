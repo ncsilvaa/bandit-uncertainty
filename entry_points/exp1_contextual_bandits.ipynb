{
 "cells": [
  {
   "cell_type": "code",
   "execution_count": 1,
   "metadata": {},
   "outputs": [],
   "source": [
    "import pandas as pd\n",
    "import numpy as np\n",
    "from irec.environment.loader import FullData"
   ]
  },
  {
   "cell_type": "code",
   "execution_count": 2,
   "metadata": {},
   "outputs": [],
   "source": [
    "from irec.recommendation.agents import SimpleAgent\n",
    "from irec.recommendation.agents.action_selection_policies import ASPEGreedy, ASPGreedy\n",
    "import sys\n",
    "sys.path.append(\"..\")\n",
    "from action_selection_policies import ASPMismatchEgreedy, ASPMismatchGreedy"
   ]
  },
  {
   "cell_type": "code",
   "execution_count": 3,
   "metadata": {},
   "outputs": [],
   "source": [
    "from irec.recommendation.agents.value_functions import LinearEGreedy, PTS"
   ]
  },
  {
   "cell_type": "code",
   "execution_count": 4,
   "metadata": {},
   "outputs": [],
   "source": [
    "from value_functions import ContextualLinUCB, ContextualEgreedy, ContextualPTS, LinUCB"
   ]
  },
  {
   "cell_type": "code",
   "execution_count": 5,
   "metadata": {},
   "outputs": [],
   "source": [
    "from irec.offline_experiments.evaluation_policies import FixedInteraction\n",
    "from irec.offline_experiments.metric_evaluators import UserCumulativeInteraction, StageIterations\n",
    "from irec.offline_experiments.metrics import Hits"
   ]
  },
  {
   "attachments": {},
   "cell_type": "markdown",
   "metadata": {},
   "source": [
    "### Load Dataset"
   ]
  },
  {
   "cell_type": "code",
   "execution_count": 6,
   "metadata": {},
   "outputs": [
    {
     "name": "stdout",
     "output_type": "stream",
     "text": [
      "\n",
      "Applying splitting strategy: global\n",
      "\n",
      "Test shape: (16892, 4)\n",
      "Train shape: (80393, 4)\n",
      "\n",
      "Generating x_validation and y_validation: \n",
      "Test shape: (15729, 4)\n",
      "Train shape: (61345, 4)\n"
     ]
    }
   ],
   "source": [
    "# Dataset\n",
    "dataset = {\n",
    "    'path': \"../datasets/MovieLens 100k/ratings.csv\",\n",
    "    'random_seed': 0,\n",
    "    'file_delimiter': \",\",\n",
    "    'skip_head': True\n",
    "}\n",
    "# Splitting\n",
    "splitting = {'strategy': \"global\", 'train_size': 0.8, 'test_consumes': 5}\n",
    "validation = {'validation_size': 0.2}\n",
    "# Loader\n",
    "loader = FullData(dataset, splitting, validation)\n",
    "train_dataset, test_dataset, x_validation, y_validation = loader.process()"
   ]
  },
  {
   "cell_type": "markdown",
   "metadata": {},
   "source": [
    "### Creating the agents"
   ]
  },
  {
   "cell_type": "code",
   "execution_count": 7,
   "metadata": {},
   "outputs": [],
   "source": [
    "params = {\n",
    "    \"LinearEGreedy\": {\"item_var\": 0.01, \"iterations\": 20, \"num_lat\": 20, \"stop_criteria\": 0.0009, \"user_var\": 0.01, \"var\": 0.05},\n",
    "    \"ContextualEgreedy_Te0\": {\"item_var\": 0.01, \"iterations\": 20, \"num_lat\": 20, \"stop_criteria\": 0.0009, \"user_var\": 0.01, \"var\": 0.05},\n",
    "    \"ContextualEgreedy_Tge0\": {\"item_var\": 0.01, \"iterations\": 20, \"num_lat\": 20, \"stop_criteria\": 0.0009, \"user_var\": 0.01, \"var\": 0.05},\n",
    "    \"PTS\": {\"num_lat\": 20, \"num_particles\": 5, \"var\": 0.5, \"var_u\": 1.0, \"var_v\": 1.0},\n",
    "    \"ContextualPTS_Te0\": {\"num_lat\": 20, \"num_particles\": 5, \"var\": 0.5, \"var_u\": 1.0, \"var_v\": 1.0},\n",
    "    \"ContextualPTS_Tge0\": {\"num_lat\": 20, \"num_particles\": 5, \"var\": 0.5, \"var_u\": 1.0, \"var_v\": 1.0},\n",
    "    \"LinUCB\": {\"alpha\": 0.5, \"num_lat\": 10},\n",
    "    \"ContextualLinUCB_Te0\": {\"alpha\": 0.5, \"num_lat\": 10},\n",
    "    \"ContextualLinUCB_Tge0\": {\"alpha\": 0.5, \"num_lat\": 10}\n",
    "}"
   ]
  },
  {
   "cell_type": "code",
   "execution_count": 8,
   "metadata": {},
   "outputs": [],
   "source": [
    "agents = []\n",
    "\n",
    "# LinearEGreedy\n",
    "vf = LinearEGreedy(**params[\"LinearEGreedy\"])\n",
    "asp = ASPEGreedy(epsilon=0.1)\n",
    "agent = SimpleAgent(vf, asp, name=\"LinearEGreedy\")\n",
    "agents.append(agent)\n",
    "\n",
    "vf = ContextualEgreedy(**params[\"ContextualEgreedy_Te0\"])\n",
    "asp = ASPMismatchEgreedy(epsilon=0.1, k=0)\n",
    "agent = SimpleAgent(vf, asp, name=\"ContextualEgreedy_Te0\")\n",
    "agents.append(agent)\n",
    "\n",
    "vf = ContextualEgreedy(**params[\"ContextualEgreedy_Tge0\"])\n",
    "asp = ASPMismatchEgreedy(epsilon=0.1, k=5)\n",
    "agent = SimpleAgent(vf, asp, name=\"ContextualEgreedy_Tge0\")\n",
    "agents.append(agent)\n",
    "\n",
    "# PTS\n",
    "vf = PTS(**params[\"PTS\"])\n",
    "asp = ASPGreedy()\n",
    "agent = SimpleAgent(vf, asp, name=\"PTS\")\n",
    "agents.append(agent)\n",
    "\n",
    "vf = ContextualPTS(**params[\"ContextualPTS_Te0\"])\n",
    "asp = ASPMismatchGreedy(k=0)\n",
    "agent = SimpleAgent(vf, asp, name=\"ContextualPTS_Te0\")\n",
    "agents.append(agent)\n",
    "\n",
    "vf = ContextualPTS(**params[\"ContextualPTS_Tge0\"])\n",
    "asp = ASPMismatchGreedy(k=20)\n",
    "agent = SimpleAgent(vf, asp, name=\"ContextualPTS_Tge0\")\n",
    "agents.append(agent)\n",
    "\n",
    "# LinUCB\n",
    "vf = LinUCB(**params[\"LinUCB\"])\n",
    "asp = ASPGreedy()\n",
    "agent = SimpleAgent(vf, asp, name=\"LinUCB\")\n",
    "agents.append(agent)\n",
    "\n",
    "vf = ContextualLinUCB(**params[\"ContextualLinUCB_Te0\"])\n",
    "asp = ASPMismatchGreedy(k=0)\n",
    "agent = SimpleAgent(vf, asp, name=\"ContextualLinUCB_Te0\")\n",
    "agents.append(agent)\n",
    "\n",
    "vf = ContextualLinUCB(**params[\"ContextualLinUCB_Tge0\"])\n",
    "asp = ASPMismatchGreedy(k=20)\n",
    "agent = SimpleAgent(vf, asp, name=\"ContextualLinUCB_Tge0\")\n",
    "agents.append(agent)\n"
   ]
  },
  {
   "cell_type": "code",
   "execution_count": 9,
   "metadata": {},
   "outputs": [
    {
     "data": {
      "text/plain": [
       "['LinearEGreedy',\n",
       " 'ContextualEgreedy_Te0',\n",
       " 'ContextualEgreedy_Tge0',\n",
       " 'PTS',\n",
       " 'ContextualPTS_Te0',\n",
       " 'ContextualPTS_Tge0',\n",
       " 'LinUCB',\n",
       " 'ContextualLinUCB_Te0',\n",
       " 'ContextualLinUCB_Tge0']"
      ]
     },
     "execution_count": 9,
     "metadata": {},
     "output_type": "execute_result"
    }
   ],
   "source": [
    "[agent.name for agent in agents]"
   ]
  },
  {
   "cell_type": "markdown",
   "metadata": {},
   "source": [
    "### Getting the recommendations"
   ]
  },
  {
   "cell_type": "code",
   "execution_count": 10,
   "metadata": {},
   "outputs": [],
   "source": [
    "eval_policy = FixedInteraction(num_interactions=100, interaction_size=1, save_info=False)"
   ]
  },
  {
   "cell_type": "code",
   "execution_count": 11,
   "metadata": {},
   "outputs": [
    {
     "name": "stdout",
     "output_type": "stream",
     "text": [
      "LinearEGreedy\n",
      "Starting LinearEGreedy Training\n"
     ]
    },
    {
     "name": "stderr",
     "output_type": "stream",
     "text": [
      "rmse=0.800: 100%|██████████| 20/20 [00:21<00:00,  1.07s/it]\n"
     ]
    },
    {
     "name": "stdout",
     "output_type": "stream",
     "text": [
      "Ended LinearEGreedy Training\n"
     ]
    },
    {
     "name": "stderr",
     "output_type": "stream",
     "text": [
      "LinearEGreedy: 100%|██████████| 18900/18900 [00:14<00:00, 1326.83it/s]\n"
     ]
    },
    {
     "name": "stdout",
     "output_type": "stream",
     "text": [
      "ContextualEgreedy_Te0\n",
      "Starting ContextualEgreedy_Te0 Training\n"
     ]
    },
    {
     "name": "stderr",
     "output_type": "stream",
     "text": [
      "rmse=0.799: 100%|██████████| 20/20 [00:18<00:00,  1.06it/s]\n"
     ]
    },
    {
     "name": "stdout",
     "output_type": "stream",
     "text": [
      "0.8647295774417223\n",
      "Ended ContextualEgreedy_Te0 Training\n"
     ]
    },
    {
     "name": "stderr",
     "output_type": "stream",
     "text": [
      "ContextualEgreedy_Te0: 100%|██████████| 18900/18900 [00:12<00:00, 1465.09it/s]\n"
     ]
    },
    {
     "name": "stdout",
     "output_type": "stream",
     "text": [
      "ContextualEgreedy_Tge0\n",
      "Starting ContextualEgreedy_Tge0 Training\n"
     ]
    },
    {
     "name": "stderr",
     "output_type": "stream",
     "text": [
      "rmse=0.799: 100%|██████████| 20/20 [00:18<00:00,  1.07it/s]\n"
     ]
    },
    {
     "name": "stdout",
     "output_type": "stream",
     "text": [
      "0.8636540548848737\n",
      "Ended ContextualEgreedy_Tge0 Training\n"
     ]
    },
    {
     "name": "stderr",
     "output_type": "stream",
     "text": [
      "ContextualEgreedy_Tge0: 100%|██████████| 18900/18900 [00:12<00:00, 1471.75it/s]\n"
     ]
    },
    {
     "name": "stdout",
     "output_type": "stream",
     "text": [
      "PTS\n",
      "Starting PTS Training\n"
     ]
    },
    {
     "name": "stderr",
     "output_type": "stream",
     "text": [
      "100%|██████████| 80393/80393 [00:00<00:00, 226599.00it/s]\n",
      "cur=0.609,last=0.609:  74%|███████▍  | 149/200 [00:03<00:01, 38.40it/s]\n"
     ]
    },
    {
     "name": "stdout",
     "output_type": "stream",
     "text": [
      "Achieved convergence with 150 iterations, saving 149 iteration\n",
      "Ended PTS Training\n"
     ]
    },
    {
     "name": "stderr",
     "output_type": "stream",
     "text": [
      "PTS: 100%|██████████| 18900/18900 [06:11<00:00, 50.87it/s]\n"
     ]
    },
    {
     "name": "stdout",
     "output_type": "stream",
     "text": [
      "ContextualPTS_Te0\n",
      "Starting ContextualPTS_Te0 Training\n"
     ]
    },
    {
     "name": "stderr",
     "output_type": "stream",
     "text": [
      "100%|██████████| 80393/80393 [00:00<00:00, 416075.63it/s]\n",
      "cur=0.609,last=0.609:  74%|███████▍  | 149/200 [00:05<00:01, 26.24it/s]\n"
     ]
    },
    {
     "name": "stdout",
     "output_type": "stream",
     "text": [
      "Achieved convergence with 150 iterations, saving 149 iteration\n",
      "Ended ContextualPTS_Te0 Training\n"
     ]
    },
    {
     "name": "stderr",
     "output_type": "stream",
     "text": [
      "ContextualPTS_Te0: 100%|██████████| 18900/18900 [06:04<00:00, 51.79it/s]\n"
     ]
    },
    {
     "name": "stdout",
     "output_type": "stream",
     "text": [
      "ContextualPTS_Tge0\n",
      "Starting ContextualPTS_Tge0 Training\n"
     ]
    },
    {
     "name": "stderr",
     "output_type": "stream",
     "text": [
      "100%|██████████| 80393/80393 [00:00<00:00, 240203.71it/s]\n",
      "cur=0.609,last=0.609:  74%|███████▍  | 149/200 [00:02<00:00, 57.83it/s]\n"
     ]
    },
    {
     "name": "stdout",
     "output_type": "stream",
     "text": [
      "Achieved convergence with 150 iterations, saving 149 iteration\n",
      "Ended ContextualPTS_Tge0 Training\n"
     ]
    },
    {
     "name": "stderr",
     "output_type": "stream",
     "text": [
      "ContextualPTS_Tge0: 100%|██████████| 18900/18900 [05:39<00:00, 55.63it/s]\n"
     ]
    },
    {
     "name": "stdout",
     "output_type": "stream",
     "text": [
      "LinUCB\n",
      "Starting LinUCB Training\n",
      "Ended LinUCB Training\n"
     ]
    },
    {
     "name": "stderr",
     "output_type": "stream",
     "text": [
      "LinUCB: 100%|██████████| 18900/18900 [00:16<00:00, 1151.09it/s]\n"
     ]
    },
    {
     "name": "stdout",
     "output_type": "stream",
     "text": [
      "ContextualLinUCB_Te0\n",
      "Starting ContextualLinUCB_Te0 Training\n",
      "0.0 1.0\n",
      "Ended ContextualLinUCB_Te0 Training\n"
     ]
    },
    {
     "name": "stderr",
     "output_type": "stream",
     "text": [
      "ContextualLinUCB_Te0: 100%|██████████| 18900/18900 [00:14<00:00, 1287.62it/s]\n"
     ]
    },
    {
     "name": "stdout",
     "output_type": "stream",
     "text": [
      "ContextualLinUCB_Tge0\n",
      "Starting ContextualLinUCB_Tge0 Training\n",
      "0.0 1.0\n",
      "Ended ContextualLinUCB_Tge0 Training\n"
     ]
    },
    {
     "name": "stderr",
     "output_type": "stream",
     "text": [
      "ContextualLinUCB_Tge0: 100%|██████████| 18900/18900 [00:19<00:00, 992.42it/s] \n"
     ]
    }
   ],
   "source": [
    "interactions = {}\n",
    "for agent in agents:\n",
    "    print(agent.name)\n",
    "    agent_interactions, action_info = eval_policy.evaluate(agent, train_dataset, test_dataset)\n",
    "    interactions[agent.name] = agent_interactions"
   ]
  },
  {
   "cell_type": "markdown",
   "metadata": {},
   "source": [
    "### Evaluating the models"
   ]
  },
  {
   "cell_type": "code",
   "execution_count": 12,
   "metadata": {},
   "outputs": [],
   "source": [
    "# Cumulative Evaluation Setup\n",
    "evaluator = UserCumulativeInteraction(\n",
    "    ground_truth_dataset=test_dataset,\n",
    "    num_interactions=100,\n",
    "    interaction_size=1,\n",
    "    interactions_to_evaluate=[5, 10, 20, 50, 100],\n",
    "    relevance_evaluator_threshold=3.99\n",
    ")"
   ]
  },
  {
   "cell_type": "code",
   "execution_count": 13,
   "metadata": {},
   "outputs": [
    {
     "name": "stdout",
     "output_type": "stream",
     "text": [
      "\n",
      "Evaluating LinearEGreedy\n",
      "\n",
      "Computing interaction 5 with UserCumulativeInteraction\n",
      "Computing interaction 10 with UserCumulativeInteraction\n",
      "Computing interaction 20 with UserCumulativeInteraction\n",
      "Computing interaction 50 with UserCumulativeInteraction\n",
      "Computing interaction 100 with UserCumulativeInteraction\n",
      "UserCumulativeInteraction spent 0.43 seconds executing Hits metric\n",
      "\n",
      "Evaluating ContextualEgreedy_Te0\n",
      "\n",
      "Computing interaction 5 with UserCumulativeInteraction\n",
      "Computing interaction 10 with UserCumulativeInteraction\n",
      "Computing interaction 20 with UserCumulativeInteraction\n",
      "Computing interaction 50 with UserCumulativeInteraction\n",
      "Computing interaction 100 with UserCumulativeInteraction\n",
      "UserCumulativeInteraction spent 0.42 seconds executing Hits metric\n",
      "\n",
      "Evaluating ContextualEgreedy_Tge0\n",
      "\n",
      "Computing interaction 5 with UserCumulativeInteraction\n",
      "Computing interaction 10 with UserCumulativeInteraction\n",
      "Computing interaction 20 with UserCumulativeInteraction\n",
      "Computing interaction 50 with UserCumulativeInteraction\n",
      "Computing interaction 100 with UserCumulativeInteraction\n",
      "UserCumulativeInteraction spent 0.43 seconds executing Hits metric\n",
      "\n",
      "Evaluating PTS\n",
      "\n",
      "Computing interaction 5 with UserCumulativeInteraction\n",
      "Computing interaction 10 with UserCumulativeInteraction\n",
      "Computing interaction 20 with UserCumulativeInteraction\n",
      "Computing interaction 50 with UserCumulativeInteraction\n",
      "Computing interaction 100 with UserCumulativeInteraction\n",
      "UserCumulativeInteraction spent 0.55 seconds executing Hits metric\n",
      "\n",
      "Evaluating ContextualPTS_Te0\n",
      "\n",
      "Computing interaction 5 with UserCumulativeInteraction\n",
      "Computing interaction 10 with UserCumulativeInteraction\n",
      "Computing interaction 20 with UserCumulativeInteraction\n",
      "Computing interaction 50 with UserCumulativeInteraction\n",
      "Computing interaction 100 with UserCumulativeInteraction\n",
      "UserCumulativeInteraction spent 0.44 seconds executing Hits metric\n",
      "\n",
      "Evaluating ContextualPTS_Tge0\n",
      "\n",
      "Computing interaction 5 with UserCumulativeInteraction\n",
      "Computing interaction 10 with UserCumulativeInteraction\n",
      "Computing interaction 20 with UserCumulativeInteraction\n",
      "Computing interaction 50 with UserCumulativeInteraction\n",
      "Computing interaction 100 with UserCumulativeInteraction\n",
      "UserCumulativeInteraction spent 0.43 seconds executing Hits metric\n",
      "\n",
      "Evaluating LinUCB\n",
      "\n",
      "Computing interaction 5 with UserCumulativeInteraction\n",
      "Computing interaction 10 with UserCumulativeInteraction\n",
      "Computing interaction 20 with UserCumulativeInteraction\n",
      "Computing interaction 50 with UserCumulativeInteraction\n",
      "Computing interaction 100 with UserCumulativeInteraction\n",
      "UserCumulativeInteraction spent 0.43 seconds executing Hits metric\n",
      "\n",
      "Evaluating ContextualLinUCB_Te0\n",
      "\n",
      "Computing interaction 5 with UserCumulativeInteraction\n",
      "Computing interaction 10 with UserCumulativeInteraction\n",
      "Computing interaction 20 with UserCumulativeInteraction\n",
      "Computing interaction 50 with UserCumulativeInteraction\n",
      "Computing interaction 100 with UserCumulativeInteraction\n",
      "UserCumulativeInteraction spent 0.60 seconds executing Hits metric\n",
      "\n",
      "Evaluating ContextualLinUCB_Tge0\n",
      "\n",
      "Computing interaction 5 with UserCumulativeInteraction\n",
      "Computing interaction 10 with UserCumulativeInteraction\n",
      "Computing interaction 20 with UserCumulativeInteraction\n",
      "Computing interaction 50 with UserCumulativeInteraction\n",
      "Computing interaction 100 with UserCumulativeInteraction\n",
      "UserCumulativeInteraction spent 0.41 seconds executing Hits metric\n"
     ]
    }
   ],
   "source": [
    "# Getting the results\n",
    "cumulative_results = {}\n",
    "for agent_name, agent_results in interactions.items():\n",
    "    print(f\"\\nEvaluating {agent_name}\\n\")\n",
    "    hits_values = evaluator.evaluate(metric_class=Hits, results=agent_results)\n",
    "    cumulative_results[agent_name] = hits_values"
   ]
  },
  {
   "cell_type": "code",
   "execution_count": 14,
   "metadata": {},
   "outputs": [
    {
     "data": {
      "text/html": [
       "<div>\n",
       "<style scoped>\n",
       "    .dataframe tbody tr th:only-of-type {\n",
       "        vertical-align: middle;\n",
       "    }\n",
       "\n",
       "    .dataframe tbody tr th {\n",
       "        vertical-align: top;\n",
       "    }\n",
       "\n",
       "    .dataframe thead th {\n",
       "        text-align: right;\n",
       "    }\n",
       "</style>\n",
       "<table border=\"1\" class=\"dataframe\">\n",
       "  <thead>\n",
       "    <tr style=\"text-align: right;\">\n",
       "      <th></th>\n",
       "      <th>5</th>\n",
       "      <th>10</th>\n",
       "      <th>20</th>\n",
       "      <th>50</th>\n",
       "      <th>100</th>\n",
       "    </tr>\n",
       "    <tr>\n",
       "      <th>Model</th>\n",
       "      <th></th>\n",
       "      <th></th>\n",
       "      <th></th>\n",
       "      <th></th>\n",
       "      <th></th>\n",
       "    </tr>\n",
       "  </thead>\n",
       "  <tbody>\n",
       "    <tr>\n",
       "      <th>LinearEGreedy</th>\n",
       "      <td>0.031746</td>\n",
       "      <td>0.126984</td>\n",
       "      <td>0.402116</td>\n",
       "      <td>2.857143</td>\n",
       "      <td>7.941799</td>\n",
       "    </tr>\n",
       "    <tr>\n",
       "      <th>ContextualEgreedy_Te0</th>\n",
       "      <td>0.534392</td>\n",
       "      <td>1.497354</td>\n",
       "      <td>3.724868</td>\n",
       "      <td>10.566138</td>\n",
       "      <td>19.391534</td>\n",
       "    </tr>\n",
       "    <tr>\n",
       "      <th>ContextualEgreedy_Tge0</th>\n",
       "      <td>0.687831</td>\n",
       "      <td>1.968254</td>\n",
       "      <td>4.592593</td>\n",
       "      <td>12.047619</td>\n",
       "      <td>20.857143</td>\n",
       "    </tr>\n",
       "    <tr>\n",
       "      <th>PTS</th>\n",
       "      <td>0.428571</td>\n",
       "      <td>0.714286</td>\n",
       "      <td>1.306878</td>\n",
       "      <td>4.312169</td>\n",
       "      <td>11.513228</td>\n",
       "    </tr>\n",
       "    <tr>\n",
       "      <th>ContextualPTS_Te0</th>\n",
       "      <td>0.534392</td>\n",
       "      <td>0.820106</td>\n",
       "      <td>1.507937</td>\n",
       "      <td>5.15873</td>\n",
       "      <td>12.460317</td>\n",
       "    </tr>\n",
       "    <tr>\n",
       "      <th>ContextualPTS_Tge0</th>\n",
       "      <td>0.529101</td>\n",
       "      <td>0.804233</td>\n",
       "      <td>1.52381</td>\n",
       "      <td>4.899471</td>\n",
       "      <td>11.962963</td>\n",
       "    </tr>\n",
       "    <tr>\n",
       "      <th>LinUCB</th>\n",
       "      <td>0.544974</td>\n",
       "      <td>1.047619</td>\n",
       "      <td>2.978836</td>\n",
       "      <td>10.910053</td>\n",
       "      <td>21.793651</td>\n",
       "    </tr>\n",
       "    <tr>\n",
       "      <th>ContextualLinUCB_Te0</th>\n",
       "      <td>1.42328</td>\n",
       "      <td>2.513228</td>\n",
       "      <td>6.798942</td>\n",
       "      <td>15.899471</td>\n",
       "      <td>25.566138</td>\n",
       "    </tr>\n",
       "    <tr>\n",
       "      <th>ContextualLinUCB_Tge0</th>\n",
       "      <td>1.42328</td>\n",
       "      <td>2.513228</td>\n",
       "      <td>6.798942</td>\n",
       "      <td>15.89418</td>\n",
       "      <td>25.582011</td>\n",
       "    </tr>\n",
       "  </tbody>\n",
       "</table>\n",
       "</div>"
      ],
      "text/plain": [
       "                               5        10        20         50        100\n",
       "Model                                                                     \n",
       "LinearEGreedy           0.031746  0.126984  0.402116   2.857143   7.941799\n",
       "ContextualEgreedy_Te0   0.534392  1.497354  3.724868  10.566138  19.391534\n",
       "ContextualEgreedy_Tge0  0.687831  1.968254  4.592593  12.047619  20.857143\n",
       "PTS                     0.428571  0.714286  1.306878   4.312169  11.513228\n",
       "ContextualPTS_Te0       0.534392  0.820106  1.507937    5.15873  12.460317\n",
       "ContextualPTS_Tge0      0.529101  0.804233   1.52381   4.899471  11.962963\n",
       "LinUCB                  0.544974  1.047619  2.978836  10.910053  21.793651\n",
       "ContextualLinUCB_Te0     1.42328  2.513228  6.798942  15.899471  25.566138\n",
       "ContextualLinUCB_Tge0    1.42328  2.513228  6.798942   15.89418  25.582011"
      ]
     },
     "execution_count": 14,
     "metadata": {},
     "output_type": "execute_result"
    }
   ],
   "source": [
    "df_cumulative = pd.DataFrame(columns=[\"Model\", 5, 10, 20, 50, 100])\n",
    "df_cumulative[\"Model\"] = list(cumulative_results.keys())\n",
    "df_cumulative.set_index(\"Model\", inplace=True)\n",
    "for agent_name, results in cumulative_results.items():\n",
    "    df_cumulative.loc[agent_name] = [\n",
    "        np.mean(list(metric_values.values())) for metric_values in results\n",
    "    ]\n",
    "df_cumulative"
   ]
  }
 ],
 "metadata": {
  "kernelspec": {
   "display_name": ".venv",
   "language": "python",
   "name": "python3"
  },
  "language_info": {
   "codemirror_mode": {
    "name": "ipython",
    "version": 3
   },
   "file_extension": ".py",
   "mimetype": "text/x-python",
   "name": "python",
   "nbconvert_exporter": "python",
   "pygments_lexer": "ipython3",
   "version": "3.9.5"
  },
  "orig_nbformat": 4
 },
 "nbformat": 4,
 "nbformat_minor": 2
}
